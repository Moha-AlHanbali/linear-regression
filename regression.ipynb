{
 "cells": [
  {
   "cell_type": "markdown",
   "metadata": {},
   "source": [
    "# Lab: 13 - Linear Regressions\n",
    "## Possum Length to its' Head Length Linear Regression - Possum's skull width and its' Head Length Linear Regression - Mohammed Al-Hanbali - 26/10/2021"
   ]
  },
  {
   "cell_type": "code",
   "execution_count": 2858,
   "metadata": {},
   "outputs": [],
   "source": [
    "%matplotlib inline\n",
    "import pandas as pd\n",
    "import numpy as np\n",
    "import matplotlib.pyplot as plt\n",
    "from sklearn.linear_model import LinearRegression\n",
    "from sklearn.model_selection import train_test_split\n",
    "import seaborn as sns"
   ]
  },
  {
   "cell_type": "code",
   "execution_count": 2859,
   "metadata": {},
   "outputs": [
    {
     "data": {
      "text/html": [
       "<div>\n",
       "<style scoped>\n",
       "    .dataframe tbody tr th:only-of-type {\n",
       "        vertical-align: middle;\n",
       "    }\n",
       "\n",
       "    .dataframe tbody tr th {\n",
       "        vertical-align: top;\n",
       "    }\n",
       "\n",
       "    .dataframe thead th {\n",
       "        text-align: right;\n",
       "    }\n",
       "</style>\n",
       "<table border=\"1\" class=\"dataframe\">\n",
       "  <thead>\n",
       "    <tr style=\"text-align: right;\">\n",
       "      <th></th>\n",
       "      <th>case</th>\n",
       "      <th>site</th>\n",
       "      <th>Pop</th>\n",
       "      <th>sex</th>\n",
       "      <th>age</th>\n",
       "      <th>hdlngth</th>\n",
       "      <th>skullw</th>\n",
       "      <th>totlngth</th>\n",
       "      <th>taill</th>\n",
       "      <th>footlgth</th>\n",
       "      <th>earconch</th>\n",
       "      <th>eye</th>\n",
       "      <th>chest</th>\n",
       "      <th>belly</th>\n",
       "    </tr>\n",
       "  </thead>\n",
       "  <tbody>\n",
       "    <tr>\n",
       "      <th>0</th>\n",
       "      <td>1</td>\n",
       "      <td>1</td>\n",
       "      <td>Vic</td>\n",
       "      <td>m</td>\n",
       "      <td>8.0</td>\n",
       "      <td>94.1</td>\n",
       "      <td>60.4</td>\n",
       "      <td>89.0</td>\n",
       "      <td>36.0</td>\n",
       "      <td>74.5</td>\n",
       "      <td>54.5</td>\n",
       "      <td>15.2</td>\n",
       "      <td>28.0</td>\n",
       "      <td>36.0</td>\n",
       "    </tr>\n",
       "    <tr>\n",
       "      <th>1</th>\n",
       "      <td>2</td>\n",
       "      <td>1</td>\n",
       "      <td>Vic</td>\n",
       "      <td>f</td>\n",
       "      <td>6.0</td>\n",
       "      <td>92.5</td>\n",
       "      <td>57.6</td>\n",
       "      <td>91.5</td>\n",
       "      <td>36.5</td>\n",
       "      <td>72.5</td>\n",
       "      <td>51.2</td>\n",
       "      <td>16.0</td>\n",
       "      <td>28.5</td>\n",
       "      <td>33.0</td>\n",
       "    </tr>\n",
       "    <tr>\n",
       "      <th>2</th>\n",
       "      <td>3</td>\n",
       "      <td>1</td>\n",
       "      <td>Vic</td>\n",
       "      <td>f</td>\n",
       "      <td>6.0</td>\n",
       "      <td>94.0</td>\n",
       "      <td>60.0</td>\n",
       "      <td>95.5</td>\n",
       "      <td>39.0</td>\n",
       "      <td>75.4</td>\n",
       "      <td>51.9</td>\n",
       "      <td>15.5</td>\n",
       "      <td>30.0</td>\n",
       "      <td>34.0</td>\n",
       "    </tr>\n",
       "    <tr>\n",
       "      <th>3</th>\n",
       "      <td>4</td>\n",
       "      <td>1</td>\n",
       "      <td>Vic</td>\n",
       "      <td>f</td>\n",
       "      <td>6.0</td>\n",
       "      <td>93.2</td>\n",
       "      <td>57.1</td>\n",
       "      <td>92.0</td>\n",
       "      <td>38.0</td>\n",
       "      <td>76.1</td>\n",
       "      <td>52.2</td>\n",
       "      <td>15.2</td>\n",
       "      <td>28.0</td>\n",
       "      <td>34.0</td>\n",
       "    </tr>\n",
       "    <tr>\n",
       "      <th>4</th>\n",
       "      <td>5</td>\n",
       "      <td>1</td>\n",
       "      <td>Vic</td>\n",
       "      <td>f</td>\n",
       "      <td>2.0</td>\n",
       "      <td>91.5</td>\n",
       "      <td>56.3</td>\n",
       "      <td>85.5</td>\n",
       "      <td>36.0</td>\n",
       "      <td>71.0</td>\n",
       "      <td>53.2</td>\n",
       "      <td>15.1</td>\n",
       "      <td>28.5</td>\n",
       "      <td>33.0</td>\n",
       "    </tr>\n",
       "  </tbody>\n",
       "</table>\n",
       "</div>"
      ],
      "text/plain": [
       "   case  site  Pop sex  age  hdlngth  skullw  totlngth  taill  footlgth  \\\n",
       "0     1     1  Vic   m  8.0     94.1    60.4      89.0   36.0      74.5   \n",
       "1     2     1  Vic   f  6.0     92.5    57.6      91.5   36.5      72.5   \n",
       "2     3     1  Vic   f  6.0     94.0    60.0      95.5   39.0      75.4   \n",
       "3     4     1  Vic   f  6.0     93.2    57.1      92.0   38.0      76.1   \n",
       "4     5     1  Vic   f  2.0     91.5    56.3      85.5   36.0      71.0   \n",
       "\n",
       "   earconch   eye  chest  belly  \n",
       "0      54.5  15.2   28.0   36.0  \n",
       "1      51.2  16.0   28.5   33.0  \n",
       "2      51.9  15.5   30.0   34.0  \n",
       "3      52.2  15.2   28.0   34.0  \n",
       "4      53.2  15.1   28.5   33.0  "
      ]
     },
     "execution_count": 2859,
     "metadata": {},
     "output_type": "execute_result"
    }
   ],
   "source": [
    "possum_data = pd.read_csv(\"possum.csv\")\n",
    "possum_data.head()"
   ]
  },
  {
   "cell_type": "markdown",
   "metadata": {},
   "source": [
    "### Possum Data Description"
   ]
  },
  {
   "cell_type": "code",
   "execution_count": 2860,
   "metadata": {},
   "outputs": [
    {
     "data": {
      "text/html": [
       "<div>\n",
       "<style scoped>\n",
       "    .dataframe tbody tr th:only-of-type {\n",
       "        vertical-align: middle;\n",
       "    }\n",
       "\n",
       "    .dataframe tbody tr th {\n",
       "        vertical-align: top;\n",
       "    }\n",
       "\n",
       "    .dataframe thead th {\n",
       "        text-align: right;\n",
       "    }\n",
       "</style>\n",
       "<table border=\"1\" class=\"dataframe\">\n",
       "  <thead>\n",
       "    <tr style=\"text-align: right;\">\n",
       "      <th></th>\n",
       "      <th>case</th>\n",
       "      <th>site</th>\n",
       "      <th>age</th>\n",
       "      <th>hdlngth</th>\n",
       "      <th>skullw</th>\n",
       "      <th>totlngth</th>\n",
       "      <th>taill</th>\n",
       "      <th>footlgth</th>\n",
       "      <th>earconch</th>\n",
       "      <th>eye</th>\n",
       "      <th>chest</th>\n",
       "      <th>belly</th>\n",
       "    </tr>\n",
       "  </thead>\n",
       "  <tbody>\n",
       "    <tr>\n",
       "      <th>count</th>\n",
       "      <td>104.000000</td>\n",
       "      <td>104.000000</td>\n",
       "      <td>102.000000</td>\n",
       "      <td>104.000000</td>\n",
       "      <td>104.000000</td>\n",
       "      <td>104.000000</td>\n",
       "      <td>104.000000</td>\n",
       "      <td>103.000000</td>\n",
       "      <td>104.000000</td>\n",
       "      <td>104.000000</td>\n",
       "      <td>104.000000</td>\n",
       "      <td>104.000000</td>\n",
       "    </tr>\n",
       "    <tr>\n",
       "      <th>mean</th>\n",
       "      <td>52.500000</td>\n",
       "      <td>3.625000</td>\n",
       "      <td>3.833333</td>\n",
       "      <td>92.602885</td>\n",
       "      <td>56.883654</td>\n",
       "      <td>87.088462</td>\n",
       "      <td>37.009615</td>\n",
       "      <td>68.459223</td>\n",
       "      <td>48.130769</td>\n",
       "      <td>15.046154</td>\n",
       "      <td>27.000000</td>\n",
       "      <td>32.586538</td>\n",
       "    </tr>\n",
       "    <tr>\n",
       "      <th>std</th>\n",
       "      <td>30.166206</td>\n",
       "      <td>2.349086</td>\n",
       "      <td>1.909244</td>\n",
       "      <td>3.573349</td>\n",
       "      <td>3.113426</td>\n",
       "      <td>4.310549</td>\n",
       "      <td>1.959518</td>\n",
       "      <td>4.395306</td>\n",
       "      <td>4.109380</td>\n",
       "      <td>1.050374</td>\n",
       "      <td>2.045597</td>\n",
       "      <td>2.761949</td>\n",
       "    </tr>\n",
       "    <tr>\n",
       "      <th>min</th>\n",
       "      <td>1.000000</td>\n",
       "      <td>1.000000</td>\n",
       "      <td>1.000000</td>\n",
       "      <td>82.500000</td>\n",
       "      <td>50.000000</td>\n",
       "      <td>75.000000</td>\n",
       "      <td>32.000000</td>\n",
       "      <td>60.300000</td>\n",
       "      <td>40.300000</td>\n",
       "      <td>12.800000</td>\n",
       "      <td>22.000000</td>\n",
       "      <td>25.000000</td>\n",
       "    </tr>\n",
       "    <tr>\n",
       "      <th>25%</th>\n",
       "      <td>26.750000</td>\n",
       "      <td>1.000000</td>\n",
       "      <td>2.250000</td>\n",
       "      <td>90.675000</td>\n",
       "      <td>54.975000</td>\n",
       "      <td>84.000000</td>\n",
       "      <td>35.875000</td>\n",
       "      <td>64.600000</td>\n",
       "      <td>44.800000</td>\n",
       "      <td>14.400000</td>\n",
       "      <td>25.500000</td>\n",
       "      <td>31.000000</td>\n",
       "    </tr>\n",
       "    <tr>\n",
       "      <th>50%</th>\n",
       "      <td>52.500000</td>\n",
       "      <td>3.000000</td>\n",
       "      <td>3.000000</td>\n",
       "      <td>92.800000</td>\n",
       "      <td>56.350000</td>\n",
       "      <td>88.000000</td>\n",
       "      <td>37.000000</td>\n",
       "      <td>68.000000</td>\n",
       "      <td>46.800000</td>\n",
       "      <td>14.900000</td>\n",
       "      <td>27.000000</td>\n",
       "      <td>32.500000</td>\n",
       "    </tr>\n",
       "    <tr>\n",
       "      <th>75%</th>\n",
       "      <td>78.250000</td>\n",
       "      <td>6.000000</td>\n",
       "      <td>5.000000</td>\n",
       "      <td>94.725000</td>\n",
       "      <td>58.100000</td>\n",
       "      <td>90.000000</td>\n",
       "      <td>38.000000</td>\n",
       "      <td>72.500000</td>\n",
       "      <td>52.000000</td>\n",
       "      <td>15.725000</td>\n",
       "      <td>28.000000</td>\n",
       "      <td>34.125000</td>\n",
       "    </tr>\n",
       "    <tr>\n",
       "      <th>max</th>\n",
       "      <td>104.000000</td>\n",
       "      <td>7.000000</td>\n",
       "      <td>9.000000</td>\n",
       "      <td>103.100000</td>\n",
       "      <td>68.600000</td>\n",
       "      <td>96.500000</td>\n",
       "      <td>43.000000</td>\n",
       "      <td>77.900000</td>\n",
       "      <td>56.200000</td>\n",
       "      <td>17.800000</td>\n",
       "      <td>32.000000</td>\n",
       "      <td>40.000000</td>\n",
       "    </tr>\n",
       "  </tbody>\n",
       "</table>\n",
       "</div>"
      ],
      "text/plain": [
       "             case        site         age     hdlngth      skullw    totlngth  \\\n",
       "count  104.000000  104.000000  102.000000  104.000000  104.000000  104.000000   \n",
       "mean    52.500000    3.625000    3.833333   92.602885   56.883654   87.088462   \n",
       "std     30.166206    2.349086    1.909244    3.573349    3.113426    4.310549   \n",
       "min      1.000000    1.000000    1.000000   82.500000   50.000000   75.000000   \n",
       "25%     26.750000    1.000000    2.250000   90.675000   54.975000   84.000000   \n",
       "50%     52.500000    3.000000    3.000000   92.800000   56.350000   88.000000   \n",
       "75%     78.250000    6.000000    5.000000   94.725000   58.100000   90.000000   \n",
       "max    104.000000    7.000000    9.000000  103.100000   68.600000   96.500000   \n",
       "\n",
       "            taill    footlgth    earconch         eye       chest       belly  \n",
       "count  104.000000  103.000000  104.000000  104.000000  104.000000  104.000000  \n",
       "mean    37.009615   68.459223   48.130769   15.046154   27.000000   32.586538  \n",
       "std      1.959518    4.395306    4.109380    1.050374    2.045597    2.761949  \n",
       "min     32.000000   60.300000   40.300000   12.800000   22.000000   25.000000  \n",
       "25%     35.875000   64.600000   44.800000   14.400000   25.500000   31.000000  \n",
       "50%     37.000000   68.000000   46.800000   14.900000   27.000000   32.500000  \n",
       "75%     38.000000   72.500000   52.000000   15.725000   28.000000   34.125000  \n",
       "max     43.000000   77.900000   56.200000   17.800000   32.000000   40.000000  "
      ]
     },
     "execution_count": 2860,
     "metadata": {},
     "output_type": "execute_result"
    }
   ],
   "source": [
    "possum_data.describe()"
   ]
  },
  {
   "cell_type": "markdown",
   "metadata": {},
   "source": [
    "### Possum Data Information"
   ]
  },
  {
   "cell_type": "code",
   "execution_count": 2861,
   "metadata": {},
   "outputs": [
    {
     "name": "stdout",
     "output_type": "stream",
     "text": [
      "<class 'pandas.core.frame.DataFrame'>\n",
      "RangeIndex: 104 entries, 0 to 103\n",
      "Data columns (total 14 columns):\n",
      " #   Column    Non-Null Count  Dtype  \n",
      "---  ------    --------------  -----  \n",
      " 0   case      104 non-null    int64  \n",
      " 1   site      104 non-null    int64  \n",
      " 2   Pop       104 non-null    object \n",
      " 3   sex       104 non-null    object \n",
      " 4   age       102 non-null    float64\n",
      " 5   hdlngth   104 non-null    float64\n",
      " 6   skullw    104 non-null    float64\n",
      " 7   totlngth  104 non-null    float64\n",
      " 8   taill     104 non-null    float64\n",
      " 9   footlgth  103 non-null    float64\n",
      " 10  earconch  104 non-null    float64\n",
      " 11  eye       104 non-null    float64\n",
      " 12  chest     104 non-null    float64\n",
      " 13  belly     104 non-null    float64\n",
      "dtypes: float64(10), int64(2), object(2)\n",
      "memory usage: 11.5+ KB\n"
     ]
    }
   ],
   "source": [
    "possum_data.info()"
   ]
  },
  {
   "cell_type": "markdown",
   "metadata": {},
   "source": [
    "### Available Possum Data "
   ]
  },
  {
   "cell_type": "code",
   "execution_count": 2862,
   "metadata": {},
   "outputs": [
    {
     "name": "stdout",
     "output_type": "stream",
     "text": [
      "Index(['case', 'site', 'Pop', 'sex', 'age', 'hdlngth', 'skullw', 'totlngth',\n",
      "       'taill', 'footlgth', 'earconch', 'eye', 'chest', 'belly'],\n",
      "      dtype='object')\n"
     ]
    }
   ],
   "source": [
    "print(possum_data.columns)"
   ]
  },
  {
   "cell_type": "markdown",
   "metadata": {},
   "source": [
    "### Checking for correlation in data"
   ]
  },
  {
   "cell_type": "code",
   "execution_count": 2863,
   "metadata": {},
   "outputs": [
    {
     "data": {
      "text/html": [
       "<div>\n",
       "<style scoped>\n",
       "    .dataframe tbody tr th:only-of-type {\n",
       "        vertical-align: middle;\n",
       "    }\n",
       "\n",
       "    .dataframe tbody tr th {\n",
       "        vertical-align: top;\n",
       "    }\n",
       "\n",
       "    .dataframe thead th {\n",
       "        text-align: right;\n",
       "    }\n",
       "</style>\n",
       "<table border=\"1\" class=\"dataframe\">\n",
       "  <thead>\n",
       "    <tr style=\"text-align: right;\">\n",
       "      <th></th>\n",
       "      <th>case</th>\n",
       "      <th>site</th>\n",
       "      <th>age</th>\n",
       "      <th>hdlngth</th>\n",
       "      <th>skullw</th>\n",
       "      <th>totlngth</th>\n",
       "      <th>taill</th>\n",
       "      <th>footlgth</th>\n",
       "      <th>earconch</th>\n",
       "      <th>eye</th>\n",
       "      <th>chest</th>\n",
       "      <th>belly</th>\n",
       "    </tr>\n",
       "  </thead>\n",
       "  <tbody>\n",
       "    <tr>\n",
       "      <th>case</th>\n",
       "      <td>1.000000</td>\n",
       "      <td>0.970353</td>\n",
       "      <td>-0.194525</td>\n",
       "      <td>-0.209177</td>\n",
       "      <td>-0.125065</td>\n",
       "      <td>-0.334329</td>\n",
       "      <td>0.315351</td>\n",
       "      <td>-0.782368</td>\n",
       "      <td>-0.773727</td>\n",
       "      <td>-0.084078</td>\n",
       "      <td>-0.402303</td>\n",
       "      <td>-0.211671</td>\n",
       "    </tr>\n",
       "    <tr>\n",
       "      <th>site</th>\n",
       "      <td>0.970353</td>\n",
       "      <td>1.000000</td>\n",
       "      <td>-0.131423</td>\n",
       "      <td>-0.163646</td>\n",
       "      <td>-0.083548</td>\n",
       "      <td>-0.260843</td>\n",
       "      <td>0.380444</td>\n",
       "      <td>-0.783009</td>\n",
       "      <td>-0.790716</td>\n",
       "      <td>-0.036987</td>\n",
       "      <td>-0.345494</td>\n",
       "      <td>-0.175266</td>\n",
       "    </tr>\n",
       "    <tr>\n",
       "      <th>age</th>\n",
       "      <td>-0.194525</td>\n",
       "      <td>-0.131423</td>\n",
       "      <td>1.000000</td>\n",
       "      <td>0.319022</td>\n",
       "      <td>0.285107</td>\n",
       "      <td>0.260280</td>\n",
       "      <td>0.118241</td>\n",
       "      <td>0.126190</td>\n",
       "      <td>0.053405</td>\n",
       "      <td>0.235553</td>\n",
       "      <td>0.334209</td>\n",
       "      <td>0.354298</td>\n",
       "    </tr>\n",
       "    <tr>\n",
       "      <th>hdlngth</th>\n",
       "      <td>-0.209177</td>\n",
       "      <td>-0.163646</td>\n",
       "      <td>0.319022</td>\n",
       "      <td>1.000000</td>\n",
       "      <td>0.710827</td>\n",
       "      <td>0.691094</td>\n",
       "      <td>0.287429</td>\n",
       "      <td>0.391605</td>\n",
       "      <td>0.121463</td>\n",
       "      <td>0.347175</td>\n",
       "      <td>0.631498</td>\n",
       "      <td>0.562663</td>\n",
       "    </tr>\n",
       "    <tr>\n",
       "      <th>skullw</th>\n",
       "      <td>-0.125065</td>\n",
       "      <td>-0.083548</td>\n",
       "      <td>0.285107</td>\n",
       "      <td>0.710827</td>\n",
       "      <td>1.000000</td>\n",
       "      <td>0.526413</td>\n",
       "      <td>0.255921</td>\n",
       "      <td>0.275059</td>\n",
       "      <td>-0.000537</td>\n",
       "      <td>0.321991</td>\n",
       "      <td>0.629737</td>\n",
       "      <td>0.451838</td>\n",
       "    </tr>\n",
       "    <tr>\n",
       "      <th>totlngth</th>\n",
       "      <td>-0.334329</td>\n",
       "      <td>-0.260843</td>\n",
       "      <td>0.260280</td>\n",
       "      <td>0.691094</td>\n",
       "      <td>0.526413</td>\n",
       "      <td>1.000000</td>\n",
       "      <td>0.565646</td>\n",
       "      <td>0.444832</td>\n",
       "      <td>0.154484</td>\n",
       "      <td>0.247786</td>\n",
       "      <td>0.577890</td>\n",
       "      <td>0.519465</td>\n",
       "    </tr>\n",
       "    <tr>\n",
       "      <th>taill</th>\n",
       "      <td>0.315351</td>\n",
       "      <td>0.380444</td>\n",
       "      <td>0.118241</td>\n",
       "      <td>0.287429</td>\n",
       "      <td>0.255921</td>\n",
       "      <td>0.565646</td>\n",
       "      <td>1.000000</td>\n",
       "      <td>-0.126277</td>\n",
       "      <td>-0.385136</td>\n",
       "      <td>0.198134</td>\n",
       "      <td>0.174997</td>\n",
       "      <td>0.294493</td>\n",
       "    </tr>\n",
       "    <tr>\n",
       "      <th>footlgth</th>\n",
       "      <td>-0.782368</td>\n",
       "      <td>-0.783009</td>\n",
       "      <td>0.126190</td>\n",
       "      <td>0.391605</td>\n",
       "      <td>0.275059</td>\n",
       "      <td>0.444832</td>\n",
       "      <td>-0.126277</td>\n",
       "      <td>1.000000</td>\n",
       "      <td>0.783050</td>\n",
       "      <td>0.005213</td>\n",
       "      <td>0.450590</td>\n",
       "      <td>0.302584</td>\n",
       "    </tr>\n",
       "    <tr>\n",
       "      <th>earconch</th>\n",
       "      <td>-0.773727</td>\n",
       "      <td>-0.790716</td>\n",
       "      <td>0.053405</td>\n",
       "      <td>0.121463</td>\n",
       "      <td>-0.000537</td>\n",
       "      <td>0.154484</td>\n",
       "      <td>-0.385136</td>\n",
       "      <td>0.783050</td>\n",
       "      <td>1.000000</td>\n",
       "      <td>-0.165092</td>\n",
       "      <td>0.199230</td>\n",
       "      <td>0.066527</td>\n",
       "    </tr>\n",
       "    <tr>\n",
       "      <th>eye</th>\n",
       "      <td>-0.084078</td>\n",
       "      <td>-0.036987</td>\n",
       "      <td>0.235553</td>\n",
       "      <td>0.347175</td>\n",
       "      <td>0.321991</td>\n",
       "      <td>0.247786</td>\n",
       "      <td>0.198134</td>\n",
       "      <td>0.005213</td>\n",
       "      <td>-0.165092</td>\n",
       "      <td>1.000000</td>\n",
       "      <td>0.149338</td>\n",
       "      <td>0.235716</td>\n",
       "    </tr>\n",
       "    <tr>\n",
       "      <th>chest</th>\n",
       "      <td>-0.402303</td>\n",
       "      <td>-0.345494</td>\n",
       "      <td>0.334209</td>\n",
       "      <td>0.631498</td>\n",
       "      <td>0.629737</td>\n",
       "      <td>0.577890</td>\n",
       "      <td>0.174997</td>\n",
       "      <td>0.450590</td>\n",
       "      <td>0.199230</td>\n",
       "      <td>0.149338</td>\n",
       "      <td>1.000000</td>\n",
       "      <td>0.606170</td>\n",
       "    </tr>\n",
       "    <tr>\n",
       "      <th>belly</th>\n",
       "      <td>-0.211671</td>\n",
       "      <td>-0.175266</td>\n",
       "      <td>0.354298</td>\n",
       "      <td>0.562663</td>\n",
       "      <td>0.451838</td>\n",
       "      <td>0.519465</td>\n",
       "      <td>0.294493</td>\n",
       "      <td>0.302584</td>\n",
       "      <td>0.066527</td>\n",
       "      <td>0.235716</td>\n",
       "      <td>0.606170</td>\n",
       "      <td>1.000000</td>\n",
       "    </tr>\n",
       "  </tbody>\n",
       "</table>\n",
       "</div>"
      ],
      "text/plain": [
       "              case      site       age   hdlngth    skullw  totlngth  \\\n",
       "case      1.000000  0.970353 -0.194525 -0.209177 -0.125065 -0.334329   \n",
       "site      0.970353  1.000000 -0.131423 -0.163646 -0.083548 -0.260843   \n",
       "age      -0.194525 -0.131423  1.000000  0.319022  0.285107  0.260280   \n",
       "hdlngth  -0.209177 -0.163646  0.319022  1.000000  0.710827  0.691094   \n",
       "skullw   -0.125065 -0.083548  0.285107  0.710827  1.000000  0.526413   \n",
       "totlngth -0.334329 -0.260843  0.260280  0.691094  0.526413  1.000000   \n",
       "taill     0.315351  0.380444  0.118241  0.287429  0.255921  0.565646   \n",
       "footlgth -0.782368 -0.783009  0.126190  0.391605  0.275059  0.444832   \n",
       "earconch -0.773727 -0.790716  0.053405  0.121463 -0.000537  0.154484   \n",
       "eye      -0.084078 -0.036987  0.235553  0.347175  0.321991  0.247786   \n",
       "chest    -0.402303 -0.345494  0.334209  0.631498  0.629737  0.577890   \n",
       "belly    -0.211671 -0.175266  0.354298  0.562663  0.451838  0.519465   \n",
       "\n",
       "             taill  footlgth  earconch       eye     chest     belly  \n",
       "case      0.315351 -0.782368 -0.773727 -0.084078 -0.402303 -0.211671  \n",
       "site      0.380444 -0.783009 -0.790716 -0.036987 -0.345494 -0.175266  \n",
       "age       0.118241  0.126190  0.053405  0.235553  0.334209  0.354298  \n",
       "hdlngth   0.287429  0.391605  0.121463  0.347175  0.631498  0.562663  \n",
       "skullw    0.255921  0.275059 -0.000537  0.321991  0.629737  0.451838  \n",
       "totlngth  0.565646  0.444832  0.154484  0.247786  0.577890  0.519465  \n",
       "taill     1.000000 -0.126277 -0.385136  0.198134  0.174997  0.294493  \n",
       "footlgth -0.126277  1.000000  0.783050  0.005213  0.450590  0.302584  \n",
       "earconch -0.385136  0.783050  1.000000 -0.165092  0.199230  0.066527  \n",
       "eye       0.198134  0.005213 -0.165092  1.000000  0.149338  0.235716  \n",
       "chest     0.174997  0.450590  0.199230  0.149338  1.000000  0.606170  \n",
       "belly     0.294493  0.302584  0.066527  0.235716  0.606170  1.000000  "
      ]
     },
     "execution_count": 2863,
     "metadata": {},
     "output_type": "execute_result"
    }
   ],
   "source": [
    "possum_data.corr()"
   ]
  },
  {
   "cell_type": "markdown",
   "metadata": {},
   "source": [
    "### Graphical relation between a Possum's total length and its' head length"
   ]
  },
  {
   "cell_type": "code",
   "execution_count": 2864,
   "metadata": {},
   "outputs": [
    {
     "data": {
      "image/png": "[encoded data removed]",
      "text/plain": [
       "<Figure size 432x288 with 1 Axes>"
      ]
     },
     "metadata": {
      "needs_background": "light"
     },
     "output_type": "display_data"
    }
   ],
   "source": [
    "plt.scatter(possum_data[\"totlngth\"], possum_data[\"hdlngth\"])\n",
    "plt.xlabel(\"Possum Total Length (cm)\")\n",
    "plt.ylabel(\"Possum Head Length (mm)\")\n",
    "plt.title(\"Possum's Length to its' Head Length Relation\")\n",
    "plt.show()"
   ]
  },
  {
   "cell_type": "markdown",
   "metadata": {},
   "source": [
    "### Separating Possum Study Case Data"
   ]
  },
  {
   "cell_type": "code",
   "execution_count": 2865,
   "metadata": {},
   "outputs": [
    {
     "data": {
      "text/html": [
       "<div>\n",
       "<style scoped>\n",
       "    .dataframe tbody tr th:only-of-type {\n",
       "        vertical-align: middle;\n",
       "    }\n",
       "\n",
       "    .dataframe tbody tr th {\n",
       "        vertical-align: top;\n",
       "    }\n",
       "\n",
       "    .dataframe thead th {\n",
       "        text-align: right;\n",
       "    }\n",
       "</style>\n",
       "<table border=\"1\" class=\"dataframe\">\n",
       "  <thead>\n",
       "    <tr style=\"text-align: right;\">\n",
       "      <th></th>\n",
       "      <th>totlngth</th>\n",
       "      <th>hdlngth</th>\n",
       "    </tr>\n",
       "  </thead>\n",
       "  <tbody>\n",
       "    <tr>\n",
       "      <th>0</th>\n",
       "      <td>89.0</td>\n",
       "      <td>94.1</td>\n",
       "    </tr>\n",
       "    <tr>\n",
       "      <th>1</th>\n",
       "      <td>91.5</td>\n",
       "      <td>92.5</td>\n",
       "    </tr>\n",
       "    <tr>\n",
       "      <th>2</th>\n",
       "      <td>95.5</td>\n",
       "      <td>94.0</td>\n",
       "    </tr>\n",
       "    <tr>\n",
       "      <th>3</th>\n",
       "      <td>92.0</td>\n",
       "      <td>93.2</td>\n",
       "    </tr>\n",
       "    <tr>\n",
       "      <th>4</th>\n",
       "      <td>85.5</td>\n",
       "      <td>91.5</td>\n",
       "    </tr>\n",
       "    <tr>\n",
       "      <th>...</th>\n",
       "      <td>...</td>\n",
       "      <td>...</td>\n",
       "    </tr>\n",
       "    <tr>\n",
       "      <th>99</th>\n",
       "      <td>81.5</td>\n",
       "      <td>89.5</td>\n",
       "    </tr>\n",
       "    <tr>\n",
       "      <th>100</th>\n",
       "      <td>82.5</td>\n",
       "      <td>88.6</td>\n",
       "    </tr>\n",
       "    <tr>\n",
       "      <th>101</th>\n",
       "      <td>89.0</td>\n",
       "      <td>92.4</td>\n",
       "    </tr>\n",
       "    <tr>\n",
       "      <th>102</th>\n",
       "      <td>82.5</td>\n",
       "      <td>91.5</td>\n",
       "    </tr>\n",
       "    <tr>\n",
       "      <th>103</th>\n",
       "      <td>89.0</td>\n",
       "      <td>93.6</td>\n",
       "    </tr>\n",
       "  </tbody>\n",
       "</table>\n",
       "<p>104 rows × 2 columns</p>\n",
       "</div>"
      ],
      "text/plain": [
       "     totlngth  hdlngth\n",
       "0        89.0     94.1\n",
       "1        91.5     92.5\n",
       "2        95.5     94.0\n",
       "3        92.0     93.2\n",
       "4        85.5     91.5\n",
       "..        ...      ...\n",
       "99       81.5     89.5\n",
       "100      82.5     88.6\n",
       "101      89.0     92.4\n",
       "102      82.5     91.5\n",
       "103      89.0     93.6\n",
       "\n",
       "[104 rows x 2 columns]"
      ]
     },
     "execution_count": 2865,
     "metadata": {},
     "output_type": "execute_result"
    }
   ],
   "source": [
    "possum_case = possum_data[[\"totlngth\", \"hdlngth\"]]\n",
    "possum_case"
   ]
  },
  {
   "cell_type": "markdown",
   "metadata": {},
   "source": [
    "### Setting Selection Features"
   ]
  },
  {
   "cell_type": "code",
   "execution_count": 2866,
   "metadata": {},
   "outputs": [],
   "source": [
    "X = possum_case[\"totlngth\"].values\n",
    "y = possum_case[\"hdlngth\"].values"
   ]
  },
  {
   "cell_type": "markdown",
   "metadata": {},
   "source": [
    "### Reshaping Data"
   ]
  },
  {
   "cell_type": "code",
   "execution_count": 2867,
   "metadata": {},
   "outputs": [],
   "source": [
    "X = X.reshape(-1, 1)"
   ]
  },
  {
   "cell_type": "markdown",
   "metadata": {},
   "source": [
    "### Splitting Data into train and test Data"
   ]
  },
  {
   "cell_type": "code",
   "execution_count": 2868,
   "metadata": {},
   "outputs": [],
   "source": [
    "x_train, x_test, y_train, y_test = train_test_split(X, y, train_size=70, test_size=30, random_state=80)"
   ]
  },
  {
   "cell_type": "markdown",
   "metadata": {},
   "source": [
    "### Fiting training data to the regression model"
   ]
  },
  {
   "cell_type": "code",
   "execution_count": 2869,
   "metadata": {},
   "outputs": [],
   "source": [
    "lm = LinearRegression()\n",
    "lm.fit(x_train, y_train)\n",
    "y_predict = lm.predict(x_test)\n"
   ]
  },
  {
   "cell_type": "markdown",
   "metadata": {},
   "source": [
    "### Regression model score"
   ]
  },
  {
   "cell_type": "code",
   "execution_count": 2870,
   "metadata": {},
   "outputs": [
    {
     "name": "stdout",
     "output_type": "stream",
     "text": [
      "Train accuracy 44.95 %\n"
     ]
    }
   ],
   "source": [
    "print(f\"Train accuracy {round(lm.score(x_train,y_train)*100,2)} %\")\n"
   ]
  },
  {
   "cell_type": "code",
   "execution_count": 2871,
   "metadata": {},
   "outputs": [
    {
     "name": "stdout",
     "output_type": "stream",
     "text": [
      "Test accuracy 54.13 %\n"
     ]
    }
   ],
   "source": [
    "print(f\"Test accuracy {round(lm.score(x_test,y_test)*100,2)} %\")"
   ]
  },
  {
   "cell_type": "markdown",
   "metadata": {},
   "source": [
    "### Rrelation between a Possum's total length and its' head length Regression Model"
   ]
  },
  {
   "cell_type": "code",
   "execution_count": 2872,
   "metadata": {},
   "outputs": [
    {
     "data": {
      "image/png": "[encoded data removed]",
      "text/plain": [
       "<Figure size 432x288 with 1 Axes>"
      ]
     },
     "metadata": {
      "needs_background": "light"
     },
     "output_type": "display_data"
    }
   ],
   "source": [
    "plt.scatter(x_train,y_train,color='red')\n",
    "plt.plot(x_test,y_predict, color='green')\n",
    "plt.xlabel(\"Possum Total Length (cm)\")\n",
    "plt.ylabel(\"Possum Head Length (mm)\")\n",
    "plt.title(\"Possum's Length to its' Head Length Relation\")\n",
    "plt.show()"
   ]
  },
  {
   "cell_type": "code",
   "execution_count": 2873,
   "metadata": {},
   "outputs": [
    {
     "data": {
      "text/plain": [
       "<AxesSubplot:>"
      ]
     },
     "execution_count": 2873,
     "metadata": {},
     "output_type": "execute_result"
    },
    {
     "data": {
      "image/png": "[encoded data removed]",
      "text/plain": [
       "<Figure size 432x288 with 1 Axes>"
      ]
     },
     "metadata": {
      "needs_background": "light"
     },
     "output_type": "display_data"
    }
   ],
   "source": [
    "sns.regplot(x=x_train, y=y_train, order=2)"
   ]
  },
  {
   "cell_type": "markdown",
   "metadata": {},
   "source": [
    "## Additional Case\n",
    "\n",
    "### Relation between a Possum's skull width and its' head length"
   ]
  },
  {
   "cell_type": "code",
   "execution_count": 2874,
   "metadata": {},
   "outputs": [
    {
     "data": {
      "image/png": "[encoded data removed]",
      "text/plain": [
       "<Figure size 432x288 with 1 Axes>"
      ]
     },
     "metadata": {
      "needs_background": "light"
     },
     "output_type": "display_data"
    }
   ],
   "source": [
    "plt.scatter(possum_data[\"skullw\"], possum_data[\"hdlngth\"])\n",
    "plt.xlabel(\"Possum Skull Width (mm)\")\n",
    "plt.ylabel(\"Possum Head Length (mm)\")\n",
    "plt.title(\"Possum's Skull Width to its' Head Length\")\n",
    "plt.show()\n",
    " "
   ]
  },
  {
   "cell_type": "markdown",
   "metadata": {},
   "source": [
    "### Separating Possum Study Case Data"
   ]
  },
  {
   "cell_type": "code",
   "execution_count": 2875,
   "metadata": {},
   "outputs": [
    {
     "data": {
      "text/html": [
       "<div>\n",
       "<style scoped>\n",
       "    .dataframe tbody tr th:only-of-type {\n",
       "        vertical-align: middle;\n",
       "    }\n",
       "\n",
       "    .dataframe tbody tr th {\n",
       "        vertical-align: top;\n",
       "    }\n",
       "\n",
       "    .dataframe thead th {\n",
       "        text-align: right;\n",
       "    }\n",
       "</style>\n",
       "<table border=\"1\" class=\"dataframe\">\n",
       "  <thead>\n",
       "    <tr style=\"text-align: right;\">\n",
       "      <th></th>\n",
       "      <th>skullw</th>\n",
       "      <th>hdlngth</th>\n",
       "    </tr>\n",
       "  </thead>\n",
       "  <tbody>\n",
       "    <tr>\n",
       "      <th>0</th>\n",
       "      <td>60.4</td>\n",
       "      <td>94.1</td>\n",
       "    </tr>\n",
       "    <tr>\n",
       "      <th>1</th>\n",
       "      <td>57.6</td>\n",
       "      <td>92.5</td>\n",
       "    </tr>\n",
       "    <tr>\n",
       "      <th>2</th>\n",
       "      <td>60.0</td>\n",
       "      <td>94.0</td>\n",
       "    </tr>\n",
       "    <tr>\n",
       "      <th>3</th>\n",
       "      <td>57.1</td>\n",
       "      <td>93.2</td>\n",
       "    </tr>\n",
       "    <tr>\n",
       "      <th>4</th>\n",
       "      <td>56.3</td>\n",
       "      <td>91.5</td>\n",
       "    </tr>\n",
       "    <tr>\n",
       "      <th>...</th>\n",
       "      <td>...</td>\n",
       "      <td>...</td>\n",
       "    </tr>\n",
       "    <tr>\n",
       "      <th>99</th>\n",
       "      <td>56.0</td>\n",
       "      <td>89.5</td>\n",
       "    </tr>\n",
       "    <tr>\n",
       "      <th>100</th>\n",
       "      <td>54.7</td>\n",
       "      <td>88.6</td>\n",
       "    </tr>\n",
       "    <tr>\n",
       "      <th>101</th>\n",
       "      <td>55.0</td>\n",
       "      <td>92.4</td>\n",
       "    </tr>\n",
       "    <tr>\n",
       "      <th>102</th>\n",
       "      <td>55.2</td>\n",
       "      <td>91.5</td>\n",
       "    </tr>\n",
       "    <tr>\n",
       "      <th>103</th>\n",
       "      <td>59.9</td>\n",
       "      <td>93.6</td>\n",
       "    </tr>\n",
       "  </tbody>\n",
       "</table>\n",
       "<p>104 rows × 2 columns</p>\n",
       "</div>"
      ],
      "text/plain": [
       "     skullw  hdlngth\n",
       "0      60.4     94.1\n",
       "1      57.6     92.5\n",
       "2      60.0     94.0\n",
       "3      57.1     93.2\n",
       "4      56.3     91.5\n",
       "..      ...      ...\n",
       "99     56.0     89.5\n",
       "100    54.7     88.6\n",
       "101    55.0     92.4\n",
       "102    55.2     91.5\n",
       "103    59.9     93.6\n",
       "\n",
       "[104 rows x 2 columns]"
      ]
     },
     "execution_count": 2875,
     "metadata": {},
     "output_type": "execute_result"
    }
   ],
   "source": [
    "possum_case_2 = possum_data[[\"skullw\", \"hdlngth\"]]\n",
    "possum_case_2"
   ]
  },
  {
   "cell_type": "markdown",
   "metadata": {},
   "source": [
    "### Setting Selection Features"
   ]
  },
  {
   "cell_type": "code",
   "execution_count": 2876,
   "metadata": {},
   "outputs": [],
   "source": [
    "X_2 = possum_case_2[\"skullw\"].values\n",
    "y_2 = possum_case_2[\"hdlngth\"].values"
   ]
  },
  {
   "cell_type": "markdown",
   "metadata": {},
   "source": [
    "### Reshaping Data"
   ]
  },
  {
   "cell_type": "code",
   "execution_count": 2877,
   "metadata": {},
   "outputs": [],
   "source": [
    "X_2 = X_2.reshape(-1, 1)"
   ]
  },
  {
   "cell_type": "markdown",
   "metadata": {},
   "source": [
    "### Splitting Data into train and test Data"
   ]
  },
  {
   "cell_type": "code",
   "execution_count": 2878,
   "metadata": {},
   "outputs": [],
   "source": [
    "x_2_train, x_2_test, y_2_train, y_2_test = train_test_split(X_2, y_2, train_size=70, test_size=30, random_state=15)"
   ]
  },
  {
   "cell_type": "markdown",
   "metadata": {},
   "source": [
    "### Fiting training data to the regression model"
   ]
  },
  {
   "cell_type": "code",
   "execution_count": 2879,
   "metadata": {},
   "outputs": [],
   "source": [
    "lm_2 = LinearRegression()\n",
    "lm_2.fit(x_2_train,y_2_train)\n",
    "y_2_predict = lm_2.predict(x_2_test)"
   ]
  },
  {
   "cell_type": "markdown",
   "metadata": {},
   "source": [
    "### Regression model score"
   ]
  },
  {
   "cell_type": "code",
   "execution_count": 2880,
   "metadata": {},
   "outputs": [
    {
     "name": "stdout",
     "output_type": "stream",
     "text": [
      "Train accuracy 45.64 %\n"
     ]
    }
   ],
   "source": [
    "print(f\"Train accuracy {round(lm_2.score(x_2_train,y_2_train)*100,2)} %\")"
   ]
  },
  {
   "cell_type": "code",
   "execution_count": 2881,
   "metadata": {},
   "outputs": [
    {
     "name": "stdout",
     "output_type": "stream",
     "text": [
      "Test accuracy 53.77 %\n"
     ]
    }
   ],
   "source": [
    "print(f\"Test accuracy {round(lm_2.score(x_2_test,y_2_test)*100,2)} %\")"
   ]
  },
  {
   "cell_type": "markdown",
   "metadata": {},
   "source": [
    "### Relation between a Possum's skull width and its' head length Regression Model"
   ]
  },
  {
   "cell_type": "code",
   "execution_count": 2882,
   "metadata": {},
   "outputs": [
    {
     "data": {
      "image/png": "[encoded data removed]",
      "text/plain": [
       "<Figure size 432x288 with 1 Axes>"
      ]
     },
     "metadata": {
      "needs_background": "light"
     },
     "output_type": "display_data"
    }
   ],
   "source": [
    "plt.scatter(x_2_train,y_2_train,color='red')\n",
    "plt.plot(x_2_test,y_2_predict, color='green')\n",
    "plt.xlabel(\"Possum Skull Width (mm)\")\n",
    "plt.ylabel(\"Possum Head Length (mm)\")\n",
    "plt.title(\"Possum's Skull Width to its' Head Length Fitted model\")\n",
    "plt.show()"
   ]
  },
  {
   "cell_type": "code",
   "execution_count": 2883,
   "metadata": {},
   "outputs": [
    {
     "data": {
      "text/plain": [
       "<AxesSubplot:>"
      ]
     },
     "execution_count": 2883,
     "metadata": {},
     "output_type": "execute_result"
    },
    {
     "data": {
      "image/png": "[encoded data removed]",
      "text/plain": [
       "<Figure size 432x288 with 1 Axes>"
      ]
     },
     "metadata": {
      "needs_background": "light"
     },
     "output_type": "display_data"
    }
   ],
   "source": [
    "sns.regplot(x=x_2_train, y=y_2_train, order=2)"
   ]
  },
  {
   "cell_type": "markdown",
   "metadata": {},
   "source": [
    "## Conclusion\n",
    "\n",
    "- Possum's head length is related to, and increases with the increasing of the Possum total length (head to tail).\n",
    "- Possum's skull width is related to, and increases with the increasing of a Possum head length (but inconsistently).\n",
    "- More Data is needed to cast more accurate assumptions and predictions."
   ]
  }
 ],
 "metadata": {
  "interpreter": {
   "hash": "d8e23746a4a7c3b45f82bc154e091f0000aee533db4182a8813edcecab67521b"
  },
  "kernelspec": {
   "display_name": "Python 3.9.5 64-bit ('.venv': poetry)",
   "name": "python3"
  },
  "language_info": {
   "codemirror_mode": {
    "name": "ipython",
    "version": 3
   },
   "file_extension": ".py",
   "mimetype": "text/x-python",
   "name": "python",
   "nbconvert_exporter": "python",
   "pygments_lexer": "ipython3",
   "version": "3.9.5"
  },
  "orig_nbformat": 4
 },
 "nbformat": 4,
 "nbformat_minor": 2
}
